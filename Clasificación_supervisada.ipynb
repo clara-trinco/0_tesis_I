{
 "cells": [
  {
   "cell_type": "code",
   "execution_count": 10,
   "id": "ed739e98",
   "metadata": {},
   "outputs": [],
   "source": [
    "# https://medium.com/@himanshuit3036/supervised-learning-methods-using-python-bb85b8c4e0b7\n",
    "\n",
    "# Tratamiento de datos\n",
    "# ==============================================================================\n",
    "import numpy as np\n",
    "import pandas as pd\n",
    "\n",
    "\n",
    "# Gráficos\n",
    "# ==============================================================================\n",
    "import matplotlib.pyplot as plt\n",
    "import matplotlib.font_manager\n",
    "from matplotlib import style\n",
    "style.use('ggplot') or plt.style.use('ggplot')\n",
    "\n",
    "import seaborn as sns\n",
    "%matplotlib inline"
   ]
  },
  {
   "cell_type": "code",
   "execution_count": 11,
   "id": "295002f4",
   "metadata": {},
   "outputs": [],
   "source": [
    "ds = pd.read_csv(\"/Users/clara/Desktop/TESIS_I/DS_Final2.csv\")\n",
    "#le sumamos una columna donde ordenamos la varibla Campaña - Año para poder graficar correctamente\n",
    "ds['Campaña-Año1'] = pd.to_datetime(ds['Campaña-Año'],format='%m-%Y') \n",
    "#me quedo con Campaña año 2018-03 en adelante ya que no hay registros anteriores a eso\n",
    "ds_2018 = ds[(ds['Campaña-Año1']> '02-2018') &(ds['Año'] != 2022)]"
   ]
  },
  {
   "cell_type": "code",
   "execution_count": null,
   "id": "48037680",
   "metadata": {},
   "outputs": [],
   "source": []
  },
  {
   "cell_type": "code",
   "execution_count": 12,
   "id": "3d86510f",
   "metadata": {},
   "outputs": [
    {
     "data": {
      "text/plain": [
       "Orden                         0\n",
       "Sitios                        0\n",
       "Gobierno_local                0\n",
       "codigo                        0\n",
       "Fecha                         0\n",
       "Mes                           0\n",
       "Año                           0\n",
       "Año-mes                       0\n",
       "Campaña-Año                   0\n",
       "Campaña                       0\n",
       "Tem_agua                      0\n",
       "Tem_aire                      0\n",
       "OD                            0\n",
       "pH                            0\n",
       "Turbiedad_NTU                 0\n",
       "Olores                      580\n",
       "Color                       590\n",
       "Espumas                     583\n",
       "Mat_susp                    586\n",
       "colif_totales_ufc_100ml       0\n",
       "colif_fecales_ufc_100ml       0\n",
       "escher_coli_ufc_100ml         0\n",
       "enteroc_ufc_100ml           591\n",
       "Nitrato_mg_l                  0\n",
       "NH4_mg_l                      0\n",
       "P_de_ortof_mg_l               0\n",
       "P_total_l_mg_l                0\n",
       "DQO_mg_l                      0\n",
       "DBO_mg_l                    415\n",
       "Fosf_ortofos_mg_l             0\n",
       "solidos_totales_mg_l       1131\n",
       "Hidr_Deriv_Petr_ug_l        506\n",
       "Cr_total_mg_l               441\n",
       "Cd_total_mg_l               440\n",
       "Microcistina_ug_l           477\n",
       "Clorofila_a_ug_l            518\n",
       "ICA                           0\n",
       "Calidad_de_agua             513\n",
       "Campaña-Año1                  0\n",
       "dtype: int64"
      ]
     },
     "execution_count": 12,
     "metadata": {},
     "output_type": "execute_result"
    }
   ],
   "source": [
    "ds.isna().sum()"
   ]
  },
  {
   "cell_type": "code",
   "execution_count": 13,
   "id": "77423bfc",
   "metadata": {},
   "outputs": [
    {
     "name": "stderr",
     "output_type": "stream",
     "text": [
      "/var/folders/n8/v1293tf10cj0htfq17tn2lgm0000gn/T/ipykernel_23999/1816028724.py:1: FutureWarning: DataFrame.mean and DataFrame.median with numeric_only=None will include datetime64 and datetime64tz columns in a future version.\n",
      "  ds= ds.fillna(ds.mean())  #completo los na de las variables numericas\n",
      "/var/folders/n8/v1293tf10cj0htfq17tn2lgm0000gn/T/ipykernel_23999/1816028724.py:1: FutureWarning: Dropping of nuisance columns in DataFrame reductions (with 'numeric_only=None') is deprecated; in a future version this will raise TypeError.  Select only valid columns before calling the reduction.\n",
      "  ds= ds.fillna(ds.mean())  #completo los na de las variables numericas\n"
     ]
    }
   ],
   "source": [
    "ds= ds.fillna(ds.mean())  #completo los na de las variables numericas"
   ]
  },
  {
   "cell_type": "code",
   "execution_count": 14,
   "id": "bd1f32aa",
   "metadata": {},
   "outputs": [
    {
     "data": {
      "text/plain": [
       "Orden                        0\n",
       "Sitios                       0\n",
       "Gobierno_local               0\n",
       "codigo                       0\n",
       "Fecha                        0\n",
       "Mes                          0\n",
       "Año                          0\n",
       "Año-mes                      0\n",
       "Campaña-Año                  0\n",
       "Campaña                      0\n",
       "Tem_agua                     0\n",
       "Tem_aire                     0\n",
       "OD                           0\n",
       "pH                           0\n",
       "Turbiedad_NTU                0\n",
       "Olores                     580\n",
       "Color                      590\n",
       "Espumas                    583\n",
       "Mat_susp                   586\n",
       "colif_totales_ufc_100ml      0\n",
       "colif_fecales_ufc_100ml      0\n",
       "escher_coli_ufc_100ml        0\n",
       "enteroc_ufc_100ml            0\n",
       "Nitrato_mg_l                 0\n",
       "NH4_mg_l                     0\n",
       "P_de_ortof_mg_l              0\n",
       "P_total_l_mg_l               0\n",
       "DQO_mg_l                     0\n",
       "DBO_mg_l                     0\n",
       "Fosf_ortofos_mg_l            0\n",
       "solidos_totales_mg_l         0\n",
       "Hidr_Deriv_Petr_ug_l         0\n",
       "Cr_total_mg_l                0\n",
       "Cd_total_mg_l                0\n",
       "Microcistina_ug_l            0\n",
       "Clorofila_a_ug_l             0\n",
       "ICA                          0\n",
       "Calidad_de_agua            513\n",
       "Campaña-Año1                 0\n",
       "dtype: int64"
      ]
     },
     "execution_count": 14,
     "metadata": {},
     "output_type": "execute_result"
    }
   ],
   "source": [
    "ds.isna().sum()"
   ]
  },
  {
   "cell_type": "code",
   "execution_count": 15,
   "id": "96fc2197",
   "metadata": {},
   "outputs": [],
   "source": [
    "ds = ds.apply(lambda x:x.fillna(x.value_counts().index[0]))#completo los na de las variables categoricas"
   ]
  },
  {
   "cell_type": "code",
   "execution_count": 16,
   "id": "e3cd5bd1",
   "metadata": {},
   "outputs": [
    {
     "data": {
      "text/plain": [
       "Orden                      0\n",
       "Sitios                     0\n",
       "Gobierno_local             0\n",
       "codigo                     0\n",
       "Fecha                      0\n",
       "Mes                        0\n",
       "Año                        0\n",
       "Año-mes                    0\n",
       "Campaña-Año                0\n",
       "Campaña                    0\n",
       "Tem_agua                   0\n",
       "Tem_aire                   0\n",
       "OD                         0\n",
       "pH                         0\n",
       "Turbiedad_NTU              0\n",
       "Olores                     0\n",
       "Color                      0\n",
       "Espumas                    0\n",
       "Mat_susp                   0\n",
       "colif_totales_ufc_100ml    0\n",
       "colif_fecales_ufc_100ml    0\n",
       "escher_coli_ufc_100ml      0\n",
       "enteroc_ufc_100ml          0\n",
       "Nitrato_mg_l               0\n",
       "NH4_mg_l                   0\n",
       "P_de_ortof_mg_l            0\n",
       "P_total_l_mg_l             0\n",
       "DQO_mg_l                   0\n",
       "DBO_mg_l                   0\n",
       "Fosf_ortofos_mg_l          0\n",
       "solidos_totales_mg_l       0\n",
       "Hidr_Deriv_Petr_ug_l       0\n",
       "Cr_total_mg_l              0\n",
       "Cd_total_mg_l              0\n",
       "Microcistina_ug_l          0\n",
       "Clorofila_a_ug_l           0\n",
       "ICA                        0\n",
       "Calidad_de_agua            0\n",
       "Campaña-Año1               0\n",
       "dtype: int64"
      ]
     },
     "execution_count": 16,
     "metadata": {},
     "output_type": "execute_result"
    }
   ],
   "source": [
    "ds.isna().sum()"
   ]
  },
  {
   "cell_type": "code",
   "execution_count": 17,
   "id": "4c187bb7",
   "metadata": {},
   "outputs": [
    {
     "data": {
      "text/plain": [
       "Orden                      0\n",
       "Sitios                     0\n",
       "Gobierno_local             0\n",
       "codigo                     0\n",
       "Fecha                      0\n",
       "Mes                        0\n",
       "Año                        0\n",
       "Año-mes                    0\n",
       "Campaña-Año                0\n",
       "Campaña                    0\n",
       "Tem_agua                   0\n",
       "Tem_aire                   0\n",
       "OD                         0\n",
       "pH                         0\n",
       "Turbiedad_NTU              0\n",
       "Olores                     0\n",
       "Color                      0\n",
       "Espumas                    0\n",
       "Mat_susp                   0\n",
       "colif_totales_ufc_100ml    0\n",
       "colif_fecales_ufc_100ml    0\n",
       "escher_coli_ufc_100ml      0\n",
       "enteroc_ufc_100ml          0\n",
       "Nitrato_mg_l               0\n",
       "NH4_mg_l                   0\n",
       "P_de_ortof_mg_l            0\n",
       "P_total_l_mg_l             0\n",
       "DQO_mg_l                   0\n",
       "DBO_mg_l                   0\n",
       "Fosf_ortofos_mg_l          0\n",
       "solidos_totales_mg_l       0\n",
       "Hidr_Deriv_Petr_ug_l       0\n",
       "Cr_total_mg_l              0\n",
       "Cd_total_mg_l              0\n",
       "Microcistina_ug_l          0\n",
       "Clorofila_a_ug_l           0\n",
       "ICA                        0\n",
       "Calidad_de_agua            0\n",
       "Campaña-Año1               0\n",
       "dtype: int64"
      ]
     },
     "execution_count": 17,
     "metadata": {},
     "output_type": "execute_result"
    }
   ],
   "source": [
    "ds.isnull().sum()"
   ]
  },
  {
   "cell_type": "code",
   "execution_count": 19,
   "id": "c2bc35b8",
   "metadata": {},
   "outputs": [],
   "source": [
    "#divido entre categorica y numerica\n",
    "ds_cat = ds[['codigo','Gobierno_local','Olores','Color','Espumas','Mat_susp','Calidad_de_agua']]\n",
    "ds_num = ds[['Tem_agua','OD','pH','Turbiedad_NTU','escher_coli_ufc_100ml','Nitrato_mg_l','NH4_mg_l','P_total_l_mg_l','DBO_mg_l','Hidr_Deriv_Petr_ug_l','Cr_total_mg_l','Cd_total_mg_l','Microcistina_ug_l','Clorofila_a_ug_l','ICA']]"
   ]
  },
  {
   "cell_type": "code",
   "execution_count": 20,
   "id": "d14e1a59",
   "metadata": {},
   "outputs": [],
   "source": [
    "from sklearn.preprocessing import LabelEncoder\n",
    "le = LabelEncoder()\n",
    "ds_cat = ds_cat.apply(le.fit_transform)"
   ]
  },
  {
   "cell_type": "code",
   "execution_count": null,
   "id": "d52bf285",
   "metadata": {},
   "outputs": [],
   "source": []
  },
  {
   "cell_type": "code",
   "execution_count": 21,
   "id": "3fb5ace3",
   "metadata": {},
   "outputs": [
    {
     "data": {
      "text/html": [
       "<div>\n",
       "<style scoped>\n",
       "    .dataframe tbody tr th:only-of-type {\n",
       "        vertical-align: middle;\n",
       "    }\n",
       "\n",
       "    .dataframe tbody tr th {\n",
       "        vertical-align: top;\n",
       "    }\n",
       "\n",
       "    .dataframe thead th {\n",
       "        text-align: right;\n",
       "    }\n",
       "</style>\n",
       "<table border=\"1\" class=\"dataframe\">\n",
       "  <thead>\n",
       "    <tr style=\"text-align: right;\">\n",
       "      <th></th>\n",
       "      <th>codigo</th>\n",
       "      <th>Gobierno_local</th>\n",
       "      <th>Olores</th>\n",
       "      <th>Color</th>\n",
       "      <th>Espumas</th>\n",
       "      <th>Mat_susp</th>\n",
       "      <th>Calidad_de_agua</th>\n",
       "      <th>Tem_agua</th>\n",
       "      <th>OD</th>\n",
       "      <th>pH</th>\n",
       "      <th>...</th>\n",
       "      <th>Nitrato_mg_l</th>\n",
       "      <th>NH4_mg_l</th>\n",
       "      <th>P_total_l_mg_l</th>\n",
       "      <th>DBO_mg_l</th>\n",
       "      <th>Hidr_Deriv_Petr_ug_l</th>\n",
       "      <th>Cr_total_mg_l</th>\n",
       "      <th>Cd_total_mg_l</th>\n",
       "      <th>Microcistina_ug_l</th>\n",
       "      <th>Clorofila_a_ug_l</th>\n",
       "      <th>ICA</th>\n",
       "    </tr>\n",
       "  </thead>\n",
       "  <tbody>\n",
       "    <tr>\n",
       "      <th>0</th>\n",
       "      <td>0</td>\n",
       "      <td>0</td>\n",
       "      <td>0</td>\n",
       "      <td>0</td>\n",
       "      <td>0</td>\n",
       "      <td>2</td>\n",
       "      <td>1</td>\n",
       "      <td>0.0</td>\n",
       "      <td>9.72</td>\n",
       "      <td>7.25</td>\n",
       "      <td>...</td>\n",
       "      <td>4.50</td>\n",
       "      <td>9.74</td>\n",
       "      <td>0.0</td>\n",
       "      <td>9.402911</td>\n",
       "      <td>95.678112</td>\n",
       "      <td>6.424501</td>\n",
       "      <td>0.945634</td>\n",
       "      <td>0.718777</td>\n",
       "      <td>625.344309</td>\n",
       "      <td>0</td>\n",
       "    </tr>\n",
       "    <tr>\n",
       "      <th>1</th>\n",
       "      <td>9</td>\n",
       "      <td>2</td>\n",
       "      <td>0</td>\n",
       "      <td>0</td>\n",
       "      <td>0</td>\n",
       "      <td>2</td>\n",
       "      <td>1</td>\n",
       "      <td>25.0</td>\n",
       "      <td>5.73</td>\n",
       "      <td>7.70</td>\n",
       "      <td>...</td>\n",
       "      <td>3.80</td>\n",
       "      <td>9.43</td>\n",
       "      <td>0.0</td>\n",
       "      <td>9.402911</td>\n",
       "      <td>95.678112</td>\n",
       "      <td>6.424501</td>\n",
       "      <td>0.945634</td>\n",
       "      <td>0.718777</td>\n",
       "      <td>625.344309</td>\n",
       "      <td>0</td>\n",
       "    </tr>\n",
       "    <tr>\n",
       "      <th>2</th>\n",
       "      <td>10</td>\n",
       "      <td>1</td>\n",
       "      <td>0</td>\n",
       "      <td>0</td>\n",
       "      <td>0</td>\n",
       "      <td>2</td>\n",
       "      <td>1</td>\n",
       "      <td>10.0</td>\n",
       "      <td>0.80</td>\n",
       "      <td>7.90</td>\n",
       "      <td>...</td>\n",
       "      <td>2.17</td>\n",
       "      <td>9.17</td>\n",
       "      <td>0.0</td>\n",
       "      <td>9.402911</td>\n",
       "      <td>95.678112</td>\n",
       "      <td>6.424501</td>\n",
       "      <td>0.945634</td>\n",
       "      <td>0.718777</td>\n",
       "      <td>625.344309</td>\n",
       "      <td>0</td>\n",
       "    </tr>\n",
       "    <tr>\n",
       "      <th>3</th>\n",
       "      <td>37</td>\n",
       "      <td>9</td>\n",
       "      <td>0</td>\n",
       "      <td>0</td>\n",
       "      <td>0</td>\n",
       "      <td>2</td>\n",
       "      <td>1</td>\n",
       "      <td>0.0</td>\n",
       "      <td>3.12</td>\n",
       "      <td>8.13</td>\n",
       "      <td>...</td>\n",
       "      <td>2.60</td>\n",
       "      <td>8.99</td>\n",
       "      <td>0.0</td>\n",
       "      <td>9.402911</td>\n",
       "      <td>95.678112</td>\n",
       "      <td>6.424501</td>\n",
       "      <td>0.945634</td>\n",
       "      <td>0.718777</td>\n",
       "      <td>625.344309</td>\n",
       "      <td>0</td>\n",
       "    </tr>\n",
       "    <tr>\n",
       "      <th>4</th>\n",
       "      <td>30</td>\n",
       "      <td>8</td>\n",
       "      <td>0</td>\n",
       "      <td>0</td>\n",
       "      <td>0</td>\n",
       "      <td>2</td>\n",
       "      <td>1</td>\n",
       "      <td>24.0</td>\n",
       "      <td>8.04</td>\n",
       "      <td>7.85</td>\n",
       "      <td>...</td>\n",
       "      <td>13.10</td>\n",
       "      <td>8.93</td>\n",
       "      <td>0.0</td>\n",
       "      <td>9.402911</td>\n",
       "      <td>95.678112</td>\n",
       "      <td>6.424501</td>\n",
       "      <td>0.945634</td>\n",
       "      <td>0.718777</td>\n",
       "      <td>625.344309</td>\n",
       "      <td>0</td>\n",
       "    </tr>\n",
       "  </tbody>\n",
       "</table>\n",
       "<p>5 rows × 22 columns</p>\n",
       "</div>"
      ],
      "text/plain": [
       "   codigo  Gobierno_local  Olores  Color  Espumas  Mat_susp  Calidad_de_agua  \\\n",
       "0       0               0       0      0        0         2                1   \n",
       "1       9               2       0      0        0         2                1   \n",
       "2      10               1       0      0        0         2                1   \n",
       "3      37               9       0      0        0         2                1   \n",
       "4      30               8       0      0        0         2                1   \n",
       "\n",
       "   Tem_agua    OD    pH  ...  Nitrato_mg_l  NH4_mg_l  P_total_l_mg_l  \\\n",
       "0       0.0  9.72  7.25  ...          4.50      9.74             0.0   \n",
       "1      25.0  5.73  7.70  ...          3.80      9.43             0.0   \n",
       "2      10.0  0.80  7.90  ...          2.17      9.17             0.0   \n",
       "3       0.0  3.12  8.13  ...          2.60      8.99             0.0   \n",
       "4      24.0  8.04  7.85  ...         13.10      8.93             0.0   \n",
       "\n",
       "   DBO_mg_l  Hidr_Deriv_Petr_ug_l  Cr_total_mg_l  Cd_total_mg_l  \\\n",
       "0  9.402911             95.678112       6.424501       0.945634   \n",
       "1  9.402911             95.678112       6.424501       0.945634   \n",
       "2  9.402911             95.678112       6.424501       0.945634   \n",
       "3  9.402911             95.678112       6.424501       0.945634   \n",
       "4  9.402911             95.678112       6.424501       0.945634   \n",
       "\n",
       "   Microcistina_ug_l  Clorofila_a_ug_l  ICA  \n",
       "0           0.718777        625.344309    0  \n",
       "1           0.718777        625.344309    0  \n",
       "2           0.718777        625.344309    0  \n",
       "3           0.718777        625.344309    0  \n",
       "4           0.718777        625.344309    0  \n",
       "\n",
       "[5 rows x 22 columns]"
      ]
     },
     "execution_count": 21,
     "metadata": {},
     "output_type": "execute_result"
    }
   ],
   "source": [
    "ds_final = pd.concat([ds_cat,ds_num],axis=1)\n",
    "ds_final.head()"
   ]
  },
  {
   "cell_type": "code",
   "execution_count": 22,
   "id": "8bf32094",
   "metadata": {},
   "outputs": [
    {
     "data": {
      "text/plain": [
       "array([1, 3, 0, 2])"
      ]
     },
     "execution_count": 22,
     "metadata": {},
     "output_type": "execute_result"
    }
   ],
   "source": [
    "ds_final['Calidad_de_agua'].unique()"
   ]
  },
  {
   "cell_type": "code",
   "execution_count": 23,
   "id": "d5675316",
   "metadata": {},
   "outputs": [],
   "source": [
    "# dependent and independent variables.\n",
    "\n",
    "X = ds_final.drop(['Calidad_de_agua'], axis=1)\n",
    "Y = ds_final['Calidad_de_agua']"
   ]
  },
  {
   "cell_type": "code",
   "execution_count": 24,
   "id": "3c94e624",
   "metadata": {},
   "outputs": [
    {
     "data": {
      "text/plain": [
       "(964, 964, 241, 241)"
      ]
     },
     "execution_count": 24,
     "metadata": {},
     "output_type": "execute_result"
    }
   ],
   "source": [
    "#Now we will be taking 80% of the data as our training set, and remaining 20% as our test set.\n",
    "\n",
    "X_train = np.array(X[0:int(0.80*len(X))])\n",
    "Y_train = np.array(Y[0:int(0.80*len(Y))])\n",
    "X_test = np.array(X[int(0.80*len(X)):])\n",
    "Y_test = np.array(Y[int(0.80*len(Y)):])\n",
    "len(X_train), len(Y_train), len(X_test), len(Y_test)"
   ]
  },
  {
   "cell_type": "code",
   "execution_count": 25,
   "id": "8b1538db",
   "metadata": {},
   "outputs": [],
   "source": [
    "#Algorithms Applications\n",
    "\n",
    "from sklearn.linear_model import LogisticRegression\n",
    "from sklearn.neighbors import KNeighborsClassifier\n",
    "from sklearn.naive_bayes import GaussianNB\n",
    "from sklearn.svm import LinearSVC\n",
    "from sklearn.svm import SVC\n",
    "from sklearn.tree import DecisionTreeClassifier\n",
    "from sklearn.ensemble import RandomForestClassifier"
   ]
  },
  {
   "cell_type": "code",
   "execution_count": 26,
   "id": "d51abd72",
   "metadata": {},
   "outputs": [],
   "source": [
    "#Now lt’s initialize them in respective variables\n",
    "\n",
    "LR = LogisticRegression()\n",
    "KNN = KNeighborsClassifier()\n",
    "NB = GaussianNB()\n",
    "LSVM = LinearSVC()\n",
    "NLSVM = SVC(kernel='rbf')\n",
    "DT = DecisionTreeClassifier()\n",
    "RF = RandomForestClassifier()"
   ]
  },
  {
   "cell_type": "code",
   "execution_count": 27,
   "id": "9ae93c35",
   "metadata": {},
   "outputs": [
    {
     "name": "stderr",
     "output_type": "stream",
     "text": [
      "/usr/local/lib/python3.9/site-packages/sklearn/linear_model/_logistic.py:763: ConvergenceWarning: lbfgs failed to converge (status=1):\n",
      "STOP: TOTAL NO. of ITERATIONS REACHED LIMIT.\n",
      "\n",
      "Increase the number of iterations (max_iter) or scale the data as shown in:\n",
      "    https://scikit-learn.org/stable/modules/preprocessing.html\n",
      "Please also refer to the documentation for alternative solver options:\n",
      "    https://scikit-learn.org/stable/modules/linear_model.html#logistic-regression\n",
      "  n_iter_i = _check_optimize_result(\n",
      "/usr/local/lib/python3.9/site-packages/sklearn/svm/_base.py:985: ConvergenceWarning: Liblinear failed to converge, increase the number of iterations.\n",
      "  warnings.warn(\"Liblinear failed to converge, increase \"\n"
     ]
    }
   ],
   "source": [
    "#Now that we have initialized all our algorithms, next step is to train our model on our Training Data Set:\n",
    "\n",
    "LR_fit = LR.fit(X_train, Y_train)\n",
    "KNN_fit = KNN.fit(X_train, Y_train)\n",
    "NB_fit = NB.fit(X_train, Y_train)\n",
    "LSVM_fit = LSVM.fit(X_train, Y_train)\n",
    "NLSVM_fit = NLSVM.fit(X_train, Y_train)\n",
    "DT_fit = DT.fit(X_train, Y_train)\n",
    "RF_fit = RF.fit(X_train, Y_train)"
   ]
  },
  {
   "cell_type": "code",
   "execution_count": 28,
   "id": "ad08e16b",
   "metadata": {},
   "outputs": [],
   "source": [
    "#now predict on the Test Data Set and compare the accuracy scores\n",
    "LR_pred = LR_fit.predict(X_test)\n",
    "KNN_pred = KNN_fit.predict(X_test)\n",
    "NB_pred = NB_fit.predict(X_test)\n",
    "LSVM_pred = LSVM_fit.predict(X_test)\n",
    "NLSVM_pred = NLSVM_fit.predict(X_test)\n",
    "DT_pred = DT_fit.predict(X_test)\n",
    "RF_pred = RF_fit.predict(X_test)"
   ]
  },
  {
   "cell_type": "code",
   "execution_count": 29,
   "id": "8798d14b",
   "metadata": {},
   "outputs": [
    {
     "name": "stdout",
     "output_type": "stream",
     "text": [
      "Logistic Regression is 68.879668 percent accurate\n",
      "KNN is 63.900415 percent accurate\n",
      "Naive Bayes is 43.153527 percent accurate\n",
      "Linear SVMs is 25.311203 percent accurate\n",
      "Non Linear SVMs is 51.867220 percent accurate\n",
      "Decision Trees is 79.253112 percent accurate\n",
      "Random Forests is 79.668050 percent accurate\n"
     ]
    }
   ],
   "source": [
    "#Accuracy Score\n",
    "from sklearn.metrics import accuracy_score\n",
    "print(\"Logistic Regression is %f percent accurate\" % (accuracy_score(LR_pred, Y_test)*100))\n",
    "print(\"KNN is %f percent accurate\" % (accuracy_score(KNN_pred, Y_test)*100))\n",
    "print(\"Naive Bayes is %f percent accurate\" % (accuracy_score(NB_pred, Y_test)*100))\n",
    "print(\"Linear SVMs is %f percent accurate\" % (accuracy_score(LSVM_pred, Y_test)*100))\n",
    "print(\"Non Linear SVMs is %f percent accurate\" % (accuracy_score(NLSVM_pred, Y_test)*100))\n",
    "print(\"Decision Trees is %f percent accurate\" % (accuracy_score(DT_pred, Y_test)*100))\n",
    "print(\"Random Forests is %f percent accurate\" % (accuracy_score(RF_pred, Y_test)*100))"
   ]
  },
  {
   "cell_type": "code",
   "execution_count": 33,
   "id": "952c800b",
   "metadata": {},
   "outputs": [
    {
     "data": {
      "text/plain": [
       "241"
      ]
     },
     "execution_count": 33,
     "metadata": {},
     "output_type": "execute_result"
    }
   ],
   "source": [
    "len(RF_pred)"
   ]
  },
  {
   "cell_type": "code",
   "execution_count": 34,
   "id": "0769cddf",
   "metadata": {},
   "outputs": [
    {
     "data": {
      "text/plain": [
       "241"
      ]
     },
     "execution_count": 34,
     "metadata": {},
     "output_type": "execute_result"
    }
   ],
   "source": [
    "len(Y_test)"
   ]
  },
  {
   "cell_type": "code",
   "execution_count": 39,
   "id": "a5d00899",
   "metadata": {},
   "outputs": [
    {
     "data": {
      "text/plain": [
       "array([3, 3, 1, 3, 1, 1, 1, 3, 3, 3, 0, 1, 3, 3, 3, 0, 3, 3, 1, 1, 1, 1,\n",
       "       3, 3, 1, 1, 3, 1, 1, 3, 1, 3, 1, 1, 3, 3, 3, 3, 3, 3, 3, 3, 0, 1,\n",
       "       0, 3, 3, 3, 3, 3, 1, 1, 3, 1, 1, 2, 0, 0, 3, 3, 3, 0, 3, 0, 1, 1,\n",
       "       1, 1, 1, 0, 1, 1, 3, 1, 1, 1, 3, 1, 3, 1, 3, 3, 3, 1, 3, 1, 3, 1,\n",
       "       0, 3, 0, 3, 3, 3, 0, 0, 3, 3, 1, 1, 1, 3, 3, 3, 3, 3, 1, 3, 3, 3,\n",
       "       1, 1, 3, 3, 3, 3, 1, 3, 3, 3, 3, 0, 3, 3, 3, 3, 3, 0, 0, 3, 3, 0,\n",
       "       3, 1, 1, 3, 1, 3, 3, 3, 1, 0, 3, 3, 1, 3, 3, 1, 1, 3, 1, 1, 1, 1,\n",
       "       1, 3, 1, 3, 3, 1, 3, 3, 3, 3, 3, 1, 1, 3, 1, 1, 3, 3, 1, 1, 1, 3,\n",
       "       1, 3, 1, 1, 1, 1, 1, 1, 1, 1, 1, 1, 1, 1, 1, 1, 1, 1, 1, 1, 1, 1,\n",
       "       1, 1, 1, 1, 1, 1, 1, 1, 1, 1, 1, 1, 1, 1, 1, 1, 1, 1, 1, 1, 1, 1,\n",
       "       1, 1, 1, 1, 1, 1, 1, 1, 1, 1, 1, 1, 1, 1, 1, 3, 1, 1, 1, 3, 3])"
      ]
     },
     "execution_count": 39,
     "metadata": {},
     "output_type": "execute_result"
    }
   ],
   "source": [
    "Y_test"
   ]
  },
  {
   "cell_type": "code",
   "execution_count": 40,
   "id": "a6fb985f",
   "metadata": {},
   "outputs": [
    {
     "data": {
      "text/plain": [
       "array([3, 3, 1, 3, 1, 1, 1, 3, 3, 3, 3, 3, 1, 3, 3, 0, 3, 3, 3, 3, 3, 1,\n",
       "       3, 3, 1, 3, 3, 3, 3, 3, 1, 3, 1, 1, 3, 3, 3, 3, 3, 3, 3, 3, 3, 3,\n",
       "       3, 3, 3, 3, 3, 3, 1, 1, 3, 1, 1, 2, 0, 0, 3, 0, 0, 3, 3, 1, 1, 1,\n",
       "       1, 1, 1, 3, 1, 1, 3, 3, 3, 3, 3, 3, 3, 1, 3, 3, 1, 3, 3, 1, 0, 0,\n",
       "       3, 3, 3, 3, 3, 3, 0, 3, 3, 3, 1, 1, 3, 1, 3, 3, 3, 3, 3, 3, 3, 3,\n",
       "       1, 1, 3, 3, 3, 3, 1, 3, 3, 1, 3, 3, 3, 3, 3, 0, 3, 0, 3, 3, 3, 0,\n",
       "       3, 1, 3, 3, 1, 3, 3, 3, 1, 0, 3, 1, 1, 3, 3, 3, 3, 1, 1, 1, 3, 1,\n",
       "       1, 1, 1, 1, 1, 3, 3, 3, 3, 3, 3, 1, 1, 3, 1, 1, 3, 1, 1, 1, 1, 3,\n",
       "       1, 3, 1, 1, 1, 1, 1, 1, 1, 1, 1, 1, 1, 1, 1, 1, 1, 1, 1, 1, 1, 1,\n",
       "       1, 1, 1, 1, 1, 1, 1, 1, 1, 1, 1, 1, 1, 1, 1, 1, 1, 1, 1, 1, 1, 1,\n",
       "       1, 1, 1, 1, 1, 1, 1, 1, 1, 1, 1, 1, 1, 1, 1, 1, 1, 1, 1, 1, 1])"
      ]
     },
     "execution_count": 40,
     "metadata": {},
     "output_type": "execute_result"
    }
   ],
   "source": [
    "RF_pred"
   ]
  },
  {
   "cell_type": "code",
   "execution_count": 42,
   "id": "3bc8a83a",
   "metadata": {},
   "outputs": [
    {
     "name": "stdout",
     "output_type": "stream",
     "text": [
      "[[  7   1   0  10]\n",
      " [  1 104   0  20]\n",
      " [  0   0   1   0]\n",
      " [  4  13   0  80]]\n"
     ]
    },
    {
     "data": {
      "text/plain": [
       "<matplotlib.image.AxesImage at 0x1239653a0>"
      ]
     },
     "execution_count": 42,
     "metadata": {},
     "output_type": "execute_result"
    },
    {
     "data": {
      "image/png": "[encoded data removed]",
      "text/plain": [
       "<Figure size 288x288 with 1 Axes>"
      ]
     },
     "metadata": {
      "needs_background": "light"
     },
     "output_type": "display_data"
    }
   ],
   "source": [
    "import sklearn.metrics as metrics\n",
    "\n",
    "cm=metrics.confusion_matrix(Y_test,RF_pred)\n",
    "print(cm)\n",
    "plt.matshow(cm)"
   ]
  },
  {
   "cell_type": "code",
   "execution_count": 44,
   "id": "67e978f0",
   "metadata": {},
   "outputs": [
    {
     "data": {
      "text/plain": [
       "array([[  7,   1,   0,  10],\n",
       "       [  1, 104,   0,  20],\n",
       "       [  0,   0,   1,   0],\n",
       "       [  4,  13,   0,  80]])"
      ]
     },
     "execution_count": 44,
     "metadata": {},
     "output_type": "execute_result"
    }
   ],
   "source": [
    "from sklearn.metrics import confusion_matrix\n",
    "confusion_matrix(Y_test, RF_pred)\n"
   ]
  },
  {
   "cell_type": "code",
   "execution_count": 63,
   "id": "af09e71f",
   "metadata": {},
   "outputs": [],
   "source": [
    "from sklearn.metrics import confusion_matrix, ConfusionMatrixDisplay\n",
    "\n",
    "\n"
   ]
  },
  {
   "cell_type": "code",
   "execution_count": 62,
   "id": "2057c80a",
   "metadata": {},
   "outputs": [
    {
     "data": {
      "image/png": "[encoded data removed]",
      "text/plain": [
       "<Figure size 432x288 with 2 Axes>"
      ]
     },
     "metadata": {},
     "output_type": "display_data"
    }
   ],
   "source": [
    "disp = ConfusionMatrixDisplay(confusion_matrix=cm)\n",
    "disp = disp.plot(include_values=True, cmap='viridis', ax=None, xticks_rotation='horizontal')\n",
    "plt.grid(False)\n",
    "plt.show()"
   ]
  },
  {
   "cell_type": "markdown",
   "id": "2eeb2c49",
   "metadata": {},
   "source": [
    "Se observa que el radom forest captura con una accuracy de 79,66 y como se ve en la matriz de confusión detecta correctamete la categoria 1, la 3 y cofunde un poco la 1 con la 3"
   ]
  },
  {
   "cell_type": "code",
   "execution_count": null,
   "id": "a54c0a9b",
   "metadata": {},
   "outputs": [],
   "source": [
    "\n"
   ]
  },
  {
   "cell_type": "code",
   "execution_count": null,
   "id": "d6c49924",
   "metadata": {},
   "outputs": [],
   "source": []
  },
  {
   "cell_type": "code",
   "execution_count": null,
   "id": "8cb1f6b6",
   "metadata": {},
   "outputs": [],
   "source": []
  }
 ],
 "metadata": {
  "kernelspec": {
   "display_name": "Python 3 (ipykernel)",
   "language": "python",
   "name": "python3"
  },
  "language_info": {
   "codemirror_mode": {
    "name": "ipython",
    "version": 3
   },
   "file_extension": ".py",
   "mimetype": "text/x-python",
   "name": "python",
   "nbconvert_exporter": "python",
   "pygments_lexer": "ipython3",
   "version": "3.9.13"
  }
 },
 "nbformat": 4,
 "nbformat_minor": 5
}
